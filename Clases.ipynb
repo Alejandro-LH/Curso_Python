{
 "cells": [
  {
   "cell_type": "markdown",
   "metadata": {},
   "source": [
    "### Criterios de Evaluación\n",
    "\n",
    "#### 1. Examen Practico <span style=\"color: red;\"> 25%</span>\n",
    "#### 2. Examen Teorico <span style=\"color: red;\"> 25%</span>\n",
    "#### 3. Proyecto <span style=\"color: red;\"> 25%</span>\n",
    "#### 4. Portafolio de GitHub <span style=\"color: red;\"> 25%</span>"
   ]
  },
  {
   "cell_type": "markdown",
   "metadata": {},
   "source": [
    "### Notas\n",
    "\n"
   ]
  },
  {
   "cell_type": "markdown",
   "metadata": {},
   "source": [
    "##### Paradigmas de programacion:\n",
    "- El que evalua las funciones matematicas que evitan los cambios de estado y los datos mutables.\n",
    "\n",
    "##### Imperativos: \n",
    "- Aquel que le va a dar las ordenes precisas de manera clara (es cuando te ordenan). indicar paso con paso las instrucciones. \n",
    "- Estrucuturado es el mas potente del mundo. (C   Pascal    COBOL).\n",
    "- Granularidad (especificar los pasos).\n",
    "\n",
    "##### Declarativo: \n",
    "- Yo le digo lo que haga, pero, no le digo como. \n",
    "\n",
    "##### Funcion pura: \n",
    "- Tiene argumentos.\n",
    "- No producen efectos secundarios. (Todos los problemas de memoria).\n",
    "- Retorna siempre el mismo valor con la misma entrada.\n",
    "\n",
    "##### Funcion impura\n",
    "- No tiene argumentos.\n",
    "- Puede retornar valores distintos. (funciones aleatorias, ramdoms, etc.)\n",
    "\n",
    "##### Conceptos\n",
    "- Enbedidos = celulares.\n",
    "- Pripiedad = los cubos .propiedad.\n",
    "- Métodos = las llaves pericas .metodos().\n",
    "- Casting = modificar el tipo de dato.\n",
    "- Un metodo es una funicion.\n",
    "- Mutable se puede cambiar los valores.\n",
    "- \"slices\" = rebanadas.\n",
    "- Una lista es indexable.\n",
    "- Tupla es inmutable o sea que sirve para que no se cambien los valores.\n",
    "- Tupla lleva parentesis y lista lleva corchetes.\n",
    "- \"range\" permite crear desde el 0 hasta 1 menos\n",
    "- \"type\" sirve para ver que tipo de dato es una variable.\n",
    "\n",
    "- Análisis estatico de codigo: es un analisis que se hace sin ejecutar el codigo.\n",
    "- En la terminal mypy.py\n",
    "- pip install mypy, checar eso.\n",
    "\n"
   ]
  },
  {
   "cell_type": "markdown",
   "metadata": {},
   "source": [
    "#### Conceptos de Python para la aplicación del paradigma funcional"
   ]
  },
  {
   "cell_type": "code",
   "execution_count": 1,
   "metadata": {},
   "outputs": [
    {
     "data": {
      "text/plain": [
       "int"
      ]
     },
     "execution_count": 1,
     "metadata": {},
     "output_type": "execute_result"
    }
   ],
   "source": [
    "type (5)"
   ]
  },
  {
   "cell_type": "code",
   "execution_count": 2,
   "metadata": {},
   "outputs": [
    {
     "data": {
      "text/plain": [
       "str"
      ]
     },
     "execution_count": 2,
     "metadata": {},
     "output_type": "execute_result"
    }
   ],
   "source": [
    "type (\"hola\")"
   ]
  },
  {
   "cell_type": "code",
   "execution_count": 3,
   "metadata": {},
   "outputs": [
    {
     "data": {
      "text/plain": [
       "float"
      ]
     },
     "execution_count": 3,
     "metadata": {},
     "output_type": "execute_result"
    }
   ],
   "source": [
    "type (3.1416)"
   ]
  },
  {
   "cell_type": "code",
   "execution_count": 4,
   "metadata": {},
   "outputs": [
    {
     "data": {
      "text/plain": [
       "complex"
      ]
     },
     "execution_count": 4,
     "metadata": {},
     "output_type": "execute_result"
    }
   ],
   "source": [
    "complejo = 5 + 5j # j es un número imaginario es cunado el tipo de dato es complejo.\n",
    "type(complejo)"
   ]
  },
  {
   "cell_type": "code",
   "execution_count": 5,
   "metadata": {},
   "outputs": [
    {
     "data": {
      "text/plain": [
       "float"
      ]
     },
     "execution_count": 5,
     "metadata": {},
     "output_type": "execute_result"
    }
   ],
   "source": [
    "type(3.14e-10)"
   ]
  },
  {
   "cell_type": "code",
   "execution_count": 6,
   "metadata": {},
   "outputs": [],
   "source": [
    "# hints o pistas\n",
    "numero: int = 10\n",
    "numero = \"dos\"\n",
    "# analisis estatico de codigo (clase-2)"
   ]
  },
  {
   "cell_type": "code",
   "execution_count": 7,
   "metadata": {},
   "outputs": [
    {
     "data": {
      "text/plain": [
       "'par'"
      ]
     },
     "execution_count": 7,
     "metadata": {},
     "output_type": "execute_result"
    }
   ],
   "source": [
    "n = 0\n",
    "num = int (input(\"dame un numero entero positivo\")) # \n",
    "if n%2 == 0:\n",
    "    num = \"par\"\n",
    "else: \n",
    "    num = \"impar\"\n",
    "\n",
    "num"
   ]
  },
  {
   "cell_type": "code",
   "execution_count": 8,
   "metadata": {},
   "outputs": [
    {
     "data": {
      "text/plain": [
       "'par'"
      ]
     },
     "execution_count": 8,
     "metadata": {},
     "output_type": "execute_result"
    }
   ],
   "source": [
    "n = int(input(\"dame un numero entero positivo\"))\n",
    "(num:= \"par\" if n%2 == 0 else \"impar\") # operador ternario, operador morsa. todo la expresion tiene que estar conenida entre parentesis\n",
    "num"
   ]
  },
  {
   "cell_type": "code",
   "execution_count": 9,
   "metadata": {},
   "outputs": [
    {
     "data": {
      "text/plain": [
       "'impar'"
      ]
     },
     "execution_count": 9,
     "metadata": {},
     "output_type": "execute_result"
    }
   ],
   "source": [
    "(num:= \"par\" if int(input(\"dame un numero entero positivo\"))%2 == 0 else \"impar\" )\n",
    "num"
   ]
  },
  {
   "cell_type": "code",
   "execution_count": 10,
   "metadata": {},
   "outputs": [
    {
     "name": "stdout",
     "output_type": "stream",
     "text": [
      "num_int: 3\n",
      "num_int: 3\n",
      "num_str: 3.14\n"
     ]
    },
    {
     "data": {
      "text/plain": [
       "'3.14'"
      ]
     },
     "execution_count": 10,
     "metadata": {},
     "output_type": "execute_result"
    }
   ],
   "source": [
    "# casting\n",
    "# conversion de tipos \n",
    "num_str = \"3\"\n",
    "num_int = int(num_str)\n",
    "print(f\"num_int: {num_int}\") #(fstrings) permite poder insertar variables a nuestro string\n",
    "\n",
    "num_float = 3.14\n",
    "num_int = int(num_float)\n",
    "print(f\"num_int: {num_int}\")\n",
    "\n",
    "num_str = str(num_float)\n",
    "print(f\"num_str: {num_str}\")\n",
    "num_str"
   ]
  },
  {
   "cell_type": "markdown",
   "metadata": {},
   "source": [
    "### LOGICOS: BOOL"
   ]
  },
  {
   "cell_type": "code",
   "execution_count": 11,
   "metadata": {},
   "outputs": [
    {
     "name": "stdout",
     "output_type": "stream",
     "text": [
      "True\n",
      "False\n"
     ]
    },
    {
     "data": {
      "text/plain": [
       "True"
      ]
     },
     "execution_count": 11,
     "metadata": {},
     "output_type": "execute_result"
    }
   ],
   "source": [
    "True # Booleanos\n",
    "False # Booleanos\n",
    "if 5>4:\n",
    "    print(True)\n",
    "print(5>7)\n",
    "\n",
    "received: bool = False # recevided hace referencia a un booleano\n",
    "not received # not niega el valor de la variable"
   ]
  },
  {
   "cell_type": "markdown",
   "metadata": {},
   "source": [
    "### Cadena: Srting\n",
    "\n"
   ]
  },
  {
   "cell_type": "code",
   "execution_count": 12,
   "metadata": {},
   "outputs": [
    {
     "name": "stdout",
     "output_type": "stream",
     "text": [
      "hugo\n",
      "<class 'str'>\n"
     ]
    },
    {
     "data": {
      "text/plain": [
       "'HUGO'"
      ]
     },
     "execution_count": 12,
     "metadata": {},
     "output_type": "execute_result"
    }
   ],
   "source": [
    "nombre: str = \"hugo\" # Todas son tipo objeto (todas las clases y objetos tienen propiedades y metodos) # str es un tipo de dato string.\n",
    "print (nombre) \n",
    "print (type(nombre))\n",
    "nombre.capitalize() # .capitalize() es un metodo de la clase str que convierte el primer caracter en mayuscula.\n",
    "nombre.upper() # .upper() es un metodo de la clase str que convierte el string en mayusculas."
   ]
  },
  {
   "cell_type": "code",
   "execution_count": 13,
   "metadata": {},
   "outputs": [
    {
     "name": "stdout",
     "output_type": "stream",
     "text": [
      "10--3.14--True--Hugo\n"
     ]
    }
   ],
   "source": [
    "num: int = 10 # int es un tipo de dato entero. num es una variable que hace referencia a un int.\n",
    "\n",
    "pi:float = 3.14  # float es un tipo de dato flotante. pi es una variable que hace referencia a un float.\n",
    "\n",
    "es_alumno: bool = True # es_alumno es una variable que hace referencia a un booleano.\n",
    "\n",
    "name: str = 'Hugo' # name es una variable que hace referencia a un string.\n",
    "\n",
    "print(f'{num}--{pi}--{es_alumno}--{name}')  # f'' es un string formateado, es decir, se puede poner variables dentro de un string.  # {} es un placeholder, es decir, un espacio reservado para una variable."
   ]
  },
  {
   "cell_type": "markdown",
   "metadata": {},
   "source": [
    "### Operadores Aritmeticos "
   ]
  },
  {
   "cell_type": "code",
   "execution_count": 14,
   "metadata": {},
   "outputs": [
    {
     "name": "stdout",
     "output_type": "stream",
     "text": [
      "12\n",
      "4\n",
      "32\n",
      "2.0\n",
      "2\n",
      "0\n",
      "4096\n"
     ]
    }
   ],
   "source": [
    "print (8+4) # suma\n",
    "print (8-4) # resta\n",
    "print (8*4) # multiplicacion\n",
    "print (8/4) # division\n",
    "print (8//4) # division entera\n",
    "print (8%4) # modulo o residuo\n",
    "print (8**4) # \"x\" a la \"y\""
   ]
  },
  {
   "cell_type": "markdown",
   "metadata": {},
   "source": [
    "### Operadores Logicos"
   ]
  },
  {
   "cell_type": "code",
   "execution_count": 15,
   "metadata": {},
   "outputs": [
    {
     "name": "stdout",
     "output_type": "stream",
     "text": [
      "False\n",
      "True\n",
      "True\n"
     ]
    }
   ],
   "source": [
    "print (True and False) # and es un operador logico que devuelve True si ambos valores son True\n",
    "print (True or False) # or es un operador logico que devuelve True si alguno de los valores es True\n",
    "print (not False) # not es un operador logico que niega el valor de la variable"
   ]
  },
  {
   "cell_type": "markdown",
   "metadata": {},
   "source": [
    "### Condicionales"
   ]
  },
  {
   "cell_type": "code",
   "execution_count": 16,
   "metadata": {},
   "outputs": [
    {
     "name": "stdout",
     "output_type": "stream",
     "text": [
      "10<20\n"
     ]
    }
   ],
   "source": [
    "n1 = 10\n",
    "n2 = 20\n",
    "if n1 > n2: # if es un condicional, es decir, si se cumple la condicion se ejecuta el codigo.\n",
    "    print (f\"{n1}>{n2}\")\n",
    "else: # else es un condicional, es decir, si no se cumple la condicion se ejecuta el codigo.\n",
    "    print(f\"{n1}<{n2}\")"
   ]
  },
  {
   "cell_type": "code",
   "execution_count": 17,
   "metadata": {},
   "outputs": [
    {
     "name": "stdout",
     "output_type": "stream",
     "text": [
      "acabas de llegar a la mayoria de edad\n"
     ]
    }
   ],
   "source": [
    "edad: int = 18\n",
    "\n",
    "if edad > 18:\n",
    "    print(\"mayor de edad\")\n",
    "elif edad == 18: \n",
    "    print(\"acabas de llegar a la mayoria de edad\")\n",
    "else:\n",
    "    print(\"eres menor de edad\")"
   ]
  },
  {
   "cell_type": "code",
   "execution_count": 18,
   "metadata": {},
   "outputs": [
    {
     "name": "stdout",
     "output_type": "stream",
     "text": [
      "Acabas de llegar a la mayoría de edad\n"
     ]
    }
   ],
   "source": [
    "edad = 18  \n",
    "match edad: # match es un switch case\n",
    "    case 18: # si edad es igual a 18 entonces:\n",
    "        print(\"Acabas de llegar a la mayoría de edad\")\n",
    "    case _ if edad > 18: # _ es un comodin, es decir, cualquier valor que no este especificado en los casos anteriores. if edad > 18 es una condicion que se tiene que cumplir para que se ejecute el codigo.\n",
    "        print(\"Ya eres mayor de edad\")\n",
    "    case _: # \n",
    "        print(\"Eres menor de edad\")\n"
   ]
  },
  {
   "cell_type": "markdown",
   "metadata": {},
   "source": [
    "### Listas (collections)"
   ]
  },
  {
   "cell_type": "code",
   "execution_count": 19,
   "metadata": {},
   "outputs": [
    {
     "name": "stdout",
     "output_type": "stream",
     "text": [
      "9\n",
      "1\n",
      "20\n",
      "1.25\n",
      "9\n",
      "1\n",
      "20\n",
      "1.25\n",
      "[1, 2, 3]\n",
      "[1, 3, 5, 4.5]\n",
      "[1, 2, 3, 4, 5, True, 4.5, 'Hola', 'hola mundo']\n",
      "[1, 2, 3, 4, 5, True, 4.5, 'Hola']\n",
      "['hola mundo', 'Hola', 4.5, True, 5, 4, 3, 2, 1]\n"
     ]
    }
   ],
   "source": [
    "def suma(a, b): # def es una palabra reservada que significa definir una funcion. Suma es el nombre de la funcion. a y b son los parametros de la funcion.\n",
    "    return a+b\n",
    "\n",
    "def resta(a,b): # funcion resta\n",
    "    return a-b # return es una palabra reservada que significa regresar un valor.\n",
    "\n",
    "def multiplicacion(a,b): # funcion multiplicacion\n",
    "    return a*b\n",
    "\n",
    "def division(a,b): # funcion division\n",
    "    return a/b\n",
    "\n",
    "operaciones = [suma, resta, multiplicacion, division] # lista de funciones. operaciones es el nombre de la lista.\n",
    "\n",
    "print (operaciones[0](5,4)) # el indice 0 de la lista es la suma y se le pasan los parametros 5 y 4.\n",
    "print (operaciones[1](5,4)) \n",
    "print (operaciones[2](5,4)) \n",
    "print (operaciones[3](5,4)) \n",
    "\n",
    "for operacion in operaciones: # imprime todas las operaciones de la lista de funciones.\n",
    "    print(operacion(5,4)) # imprime todas las operaciones de la lista de funciones.\n",
    "\n",
    "lista = [1,2,3,4,5, True, 4.5, \"Hola\", [1,2,3]] # lista de datos.\n",
    "\n",
    "lista [8] = \"hola mundo\" # cambia el valor de la lista en la posicion 8.\n",
    "\n",
    "print (lista[0:3]) # imprime los valores de la lista en la posicion 0,1,2\n",
    "print (lista[0:8:2]) # imprime los valores de la lista en la posicion 0,2,4,6\n",
    "print (lista[0:]) # imprime los valores de la lista en la posicion 0 hasta el final\n",
    "print (lista[:-1]) # imprime los valores de la lista en la posicion 0 hasta el final menos el ultimo\n",
    "print (lista[::-1]) # imprime los valores de la lista en la posicion 0 hasta el final en reversa"
   ]
  },
  {
   "cell_type": "code",
   "execution_count": 20,
   "metadata": {},
   "outputs": [
    {
     "name": "stdout",
     "output_type": "stream",
     "text": [
      "None\n"
     ]
    }
   ],
   "source": [
    "def suma (a,b):\n",
    "    pass # no hace nada, solo es para que no marque error.\n",
    "\n",
    "print(suma(3,4))\n",
    "#todas las funciones que no tienen un return regresan un none. "
   ]
  },
  {
   "cell_type": "code",
   "execution_count": 21,
   "metadata": {},
   "outputs": [
    {
     "name": "stdout",
     "output_type": "stream",
     "text": [
      "(9, 1, 20, 1.25)\n",
      "9\n"
     ]
    }
   ],
   "source": [
    "def operaciones (a,b):\n",
    "    return a+b, a-b, a*b, a/b # regresa una tupla. una tupla es una lista inmutable. (retorna a una lista)\n",
    "\n",
    "respuestas = operaciones(5,4)\n",
    "print(respuestas)\n",
    "x,y,z,w = operaciones(5,4) # aqui se guarda cada valor de la tupla en una variable.\n",
    "print(x)"
   ]
  },
  {
   "cell_type": "code",
   "execution_count": 22,
   "metadata": {},
   "outputs": [
    {
     "name": "stdout",
     "output_type": "stream",
     "text": [
      "9\n"
     ]
    }
   ],
   "source": [
    "res_suma,_,_,_ = operaciones(5,4) #\"_\" es una variable que no se va a usar. le estamos indicando que esto no lo vamos a usar.\n",
    "res_suma = operaciones(5,4)[0] # otra forma de guardar el valor de la tupla en una variable.\n",
    "print(res_suma)"
   ]
  },
  {
   "cell_type": "code",
   "execution_count": 23,
   "metadata": {},
   "outputs": [],
   "source": [
    "lista.append(6) # agrega un valor a la lista. .append es un metodo de la clase list."
   ]
  },
  {
   "cell_type": "markdown",
   "metadata": {},
   "source": [
    "### Tuplas "
   ]
  },
  {
   "cell_type": "code",
   "execution_count": 24,
   "metadata": {},
   "outputs": [
    {
     "name": "stdout",
     "output_type": "stream",
     "text": [
      "1\n"
     ]
    },
    {
     "data": {
      "text/plain": [
       "(1, 2, 3, 4, 5, True, 4.5, 'Hola', [1, 2, 3], 1, 2, 3)"
      ]
     },
     "execution_count": 24,
     "metadata": {},
     "output_type": "execute_result"
    }
   ],
   "source": [
    "tuplas_funciones = (suma, resta, multiplicacion, division) # tupla de funciones.\n",
    "print(tuplas_funciones[1](5,4))  # imprime la funcion en la posicion 1 de la tupla y le pasa los parametros 5 y 4.\n",
    "\n",
    "tupla = (1,2,3,4,5, True, 4.5, \"Hola\", [1,2,3]) # tupla de datos.\n",
    "tupla.__add__((1,2,3)) # agrega una tupla a otra tupla. __add__ es un metodo de la clase tuple."
   ]
  },
  {
   "cell_type": "markdown",
   "metadata": {},
   "source": [
    "### Range"
   ]
  },
  {
   "cell_type": "code",
   "execution_count": 25,
   "metadata": {},
   "outputs": [
    {
     "name": "stdout",
     "output_type": "stream",
     "text": [
      "0123456789"
     ]
    }
   ],
   "source": [
    "# range permite crear desde el 0 hasta 1 menos\n",
    "\n",
    "numeros=range(10) # crea una lista de numeros del 0 al 9.\n",
    "\n",
    "for i in numeros: # imprime los numeros del 0 al 9. \n",
    "    print(i,end=\"\") # esto es para uqe salga todo en un solo renglor.\n"
   ]
  },
  {
   "cell_type": "code",
   "execution_count": 26,
   "metadata": {},
   "outputs": [
    {
     "data": {
      "text/plain": [
       "range(5, 10)"
      ]
     },
     "execution_count": 26,
     "metadata": {},
     "output_type": "execute_result"
    }
   ],
   "source": [
    "numeros = range(5,10) # crea una lista de numeros del 5 al 9.\n",
    "numeros "
   ]
  },
  {
   "cell_type": "code",
   "execution_count": 27,
   "metadata": {},
   "outputs": [
    {
     "name": "stdout",
     "output_type": "stream",
     "text": [
      "5 6 7 8 9 "
     ]
    }
   ],
   "source": [
    "for i in numeros: # imprime los numeros del 5 al 9.\n",
    "    print(i,end=\" \") # esto es para que salga todo en un solo renglor y con un espacio entre cada numero."
   ]
  },
  {
   "cell_type": "code",
   "execution_count": 28,
   "metadata": {},
   "outputs": [
    {
     "name": "stdout",
     "output_type": "stream",
     "text": [
      "2 4 6 8 10 "
     ]
    }
   ],
   "source": [
    "numeros_pares = range (2,11,2) # crea una lista de numeros pares del 2 al 10.\n",
    "for par in numeros_pares: # imprime los numeros pares del 2 al 10.\n",
    "    print(par,end=\" \") \n",
    "    "
   ]
  },
  {
   "cell_type": "code",
   "execution_count": 29,
   "metadata": {},
   "outputs": [
    {
     "data": {
      "text/plain": [
       "89"
      ]
     },
     "execution_count": 29,
     "metadata": {},
     "output_type": "execute_result"
    }
   ],
   "source": [
    "lista = [3,6,7,40,34,67,89] # lista de numeros.\n",
    "max(lista) # max es un metodo de la clase list que regresa el numero mas grande de la lista."
   ]
  },
  {
   "cell_type": "code",
   "execution_count": 30,
   "metadata": {},
   "outputs": [
    {
     "data": {
      "text/plain": [
       "3"
      ]
     },
     "execution_count": 30,
     "metadata": {},
     "output_type": "execute_result"
    }
   ],
   "source": [
    "min(lista) # min es un metodo de la clase list que regresa el numero mas pequeño de la lista."
   ]
  },
  {
   "cell_type": "code",
   "execution_count": 31,
   "metadata": {},
   "outputs": [
    {
     "data": {
      "text/plain": [
       "246"
      ]
     },
     "execution_count": 31,
     "metadata": {},
     "output_type": "execute_result"
    }
   ],
   "source": [
    "sum(lista) # sum es un metodo de la clase list que regresa la suma de todos los numeros de la lista."
   ]
  },
  {
   "cell_type": "code",
   "execution_count": 32,
   "metadata": {},
   "outputs": [
    {
     "data": {
      "text/plain": [
       "[3, 6, 7, 34, 40, 67, 89]"
      ]
     },
     "execution_count": 32,
     "metadata": {},
     "output_type": "execute_result"
    }
   ],
   "source": [
    "sorted(lista) # sorted es un metodo de la clase list que regresa una lista ordenada de menor a mayor."
   ]
  },
  {
   "cell_type": "code",
   "execution_count": 33,
   "metadata": {},
   "outputs": [],
   "source": [
    "lista.sort() # sort es un metodo de la clase list que ordena la lista de menor a mayor. \n"
   ]
  },
  {
   "cell_type": "code",
   "execution_count": 34,
   "metadata": {},
   "outputs": [
    {
     "data": {
      "text/plain": [
       "[3, 6, 7, 34, 40, 67, 89]"
      ]
     },
     "execution_count": 34,
     "metadata": {},
     "output_type": "execute_result"
    }
   ],
   "source": [
    "lista"
   ]
  },
  {
   "cell_type": "code",
   "execution_count": 35,
   "metadata": {},
   "outputs": [
    {
     "name": "stdout",
     "output_type": "stream",
     "text": [
      "None\n"
     ]
    }
   ],
   "source": [
    "print (lista.sort()) # imprime none porque sort no regresa nada."
   ]
  },
  {
   "cell_type": "code",
   "execution_count": 36,
   "metadata": {},
   "outputs": [
    {
     "data": {
      "text/plain": [
       "[89, 67, 40, 34, 7, 6, 3]"
      ]
     },
     "execution_count": 36,
     "metadata": {},
     "output_type": "execute_result"
    }
   ],
   "source": [
    "lista.sort(reverse=True) # operadores no estan definida \n",
    "lista"
   ]
  },
  {
   "cell_type": "markdown",
   "metadata": {},
   "source": [
    "### Set conjuntos"
   ]
  },
  {
   "cell_type": "code",
   "execution_count": 37,
   "metadata": {},
   "outputs": [
    {
     "data": {
      "text/plain": [
       "{1, 2, 3, 4}"
      ]
     },
     "execution_count": 37,
     "metadata": {},
     "output_type": "execute_result"
    }
   ],
   "source": [
    "mi_set = {1,2,3,4,4,4,4} # set es un tipo de dato que no permite valores repetidos. mi_set es una variable que hace referencia a un set.\n",
    "mi_set  # imprime el set sin valores repetidos."
   ]
  },
  {
   "cell_type": "code",
   "execution_count": 38,
   "metadata": {},
   "outputs": [
    {
     "data": {
      "text/plain": [
       "[1, 2, 3, 4, 5, 6]"
      ]
     },
     "execution_count": 38,
     "metadata": {},
     "output_type": "execute_result"
    }
   ],
   "source": [
    "data = [3,2,1,2,3,4,2,1,2,3,4,5,6,4,3,2]\n",
    "list (set(data)) # set elimina los repetidos y list los convierte en una lista."
   ]
  },
  {
   "cell_type": "code",
   "execution_count": 39,
   "metadata": {},
   "outputs": [
    {
     "data": {
      "text/plain": [
       "{1, 2, 3, 4, 56, 57, 58}"
      ]
     },
     "execution_count": 39,
     "metadata": {},
     "output_type": "execute_result"
    }
   ],
   "source": [
    "data2 = {1,56,57,3,58} \n",
    "\n",
    "mi_set.union(data2) # une dos sets y elimina los repetidos. .union es un metodo de la clase set."
   ]
  },
  {
   "cell_type": "markdown",
   "metadata": {},
   "source": [
    "### Diccionario"
   ]
  },
  {
   "cell_type": "code",
   "execution_count": 40,
   "metadata": {},
   "outputs": [
    {
     "data": {
      "text/plain": [
       "'valor'"
      ]
     },
     "execution_count": 40,
     "metadata": {},
     "output_type": "execute_result"
    }
   ],
   "source": [
    "mi_dict = {\"llave\": \"valor\"} # dict es un tipo de dato que tiene una llave y un valor. mi_dict es una variable que hace referencia a un dict.\n",
    "mi_dict [\"llave\"] # imprime el valor de la llave."
   ]
  },
  {
   "cell_type": "code",
   "execution_count": 41,
   "metadata": {},
   "outputs": [
    {
     "data": {
      "text/plain": [
       "dict_keys(['llave'])"
      ]
     },
     "execution_count": 41,
     "metadata": {},
     "output_type": "execute_result"
    }
   ],
   "source": [
    "mi_dict.keys() # keys es un metodo de la clase dict que regresa todas las llaves del dict.\n"
   ]
  },
  {
   "cell_type": "code",
   "execution_count": 42,
   "metadata": {},
   "outputs": [
    {
     "data": {
      "text/plain": [
       "dict_values(['valor'])"
      ]
     },
     "execution_count": 42,
     "metadata": {},
     "output_type": "execute_result"
    }
   ],
   "source": [
    "mi_dict.values() # values es un metodo de la clase dict que regresa todos los valores del dict."
   ]
  },
  {
   "cell_type": "code",
   "execution_count": 43,
   "metadata": {},
   "outputs": [
    {
     "name": "stdout",
     "output_type": "stream",
     "text": [
      "1\n",
      "2\n",
      "3\n",
      "4\n",
      "Monday\n",
      "Tuersday\n",
      "Wendnesday\n",
      "Thursday\n",
      "Saturday\n",
      "Sundat\n",
      "1\n",
      "2\n",
      "3\n",
      "4\n",
      "5\n",
      "6\n",
      "Monday 1\n",
      "Tuersday 2\n",
      "Wendnesday 3\n",
      "Thursday 4\n",
      "Saturday 5\n",
      "Sundat 6\n",
      "Monday = 1\n",
      "Tuersday = 2\n",
      "Wendnesday = 3\n",
      "Thursday = 4\n",
      "Saturday = 5\n",
      "Sundat = 6\n"
     ]
    }
   ],
   "source": [
    "days_of_week = {\n",
    "    \"Monday\": 1,\n",
    "    \"Tuersday\": 2,\n",
    "    \"Wendnesday\": 3,\n",
    "    \"Thursday\": 4,\n",
    "    \"Saturday\": 5,\n",
    "    \"Sunday\": 6\n",
    "}\n",
    "\n",
    "for e in mi_set:\n",
    "    print(e)\n",
    "\n",
    "for key in days_of_week.keys():\n",
    "    print(key)\n",
    "\n",
    "for value in days_of_week.values():\n",
    "    print(value)\n",
    "\n",
    "for key, value in days_of_week.items():\n",
    "    print(key, value)\n",
    "\n",
    "for key, value in days_of_week.items():\n",
    "    print(f'{key} = {value}')"
   ]
  },
  {
   "cell_type": "markdown",
   "metadata": {},
   "source": [
    "instalar \n",
    "streamlit\n",
    "guizero"
   ]
  }
 ],
 "metadata": {
  "kernelspec": {
   "display_name": "Python 3",
   "language": "python",
   "name": "python3"
  },
  "language_info": {
   "codemirror_mode": {
    "name": "ipython",
    "version": 3
   },
   "file_extension": ".py",
   "mimetype": "text/x-python",
   "name": "python",
   "nbconvert_exporter": "python",
   "pygments_lexer": "ipython3",
   "version": "3.11.5"
  },
  "orig_nbformat": 4
 },
 "nbformat": 4,
 "nbformat_minor": 2
}
